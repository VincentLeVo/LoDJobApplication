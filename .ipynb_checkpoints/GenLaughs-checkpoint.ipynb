{
 "cells": [
  {
   "cell_type": "code",
   "execution_count": 1,
   "id": "1bf70d47-02cd-4890-9f45-d06d8ead2f60",
   "metadata": {},
   "outputs": [
    {
     "name": "stdout",
     "output_type": "stream",
     "text": [
      "\n",
      "\u001b[1m[\u001b[0m\u001b[34;49mnotice\u001b[0m\u001b[1;39;49m]\u001b[0m\u001b[39;49m A new release of pip is available: \u001b[0m\u001b[31;49m24.2\u001b[0m\u001b[39;49m -> \u001b[0m\u001b[32;49m24.3.1\u001b[0m\n",
      "\u001b[1m[\u001b[0m\u001b[34;49mnotice\u001b[0m\u001b[1;39;49m]\u001b[0m\u001b[39;49m To update, run: \u001b[0m\u001b[32;49mpip3 install --upgrade pip\u001b[0m\n",
      "usage: jupyter [-h] [--version] [--config-dir] [--data-dir] [--runtime-dir]\n",
      "               [--paths] [--json] [--debug]\n",
      "               [subcommand]\n",
      "\n",
      "Jupyter: Interactive Computing\n",
      "\n",
      "positional arguments:\n",
      "  subcommand     the subcommand to launch\n",
      "\n",
      "options:\n",
      "  -h, --help     show this help message and exit\n",
      "  --version      show the versions of core jupyter packages and exit\n",
      "  --config-dir   show Jupyter config dir\n",
      "  --data-dir     show Jupyter data dir\n",
      "  --runtime-dir  show Jupyter runtime dir\n",
      "  --paths        show all Jupyter paths. Add --json for machine-readable\n",
      "                 format.\n",
      "  --json         output paths as machine-readable json\n",
      "  --debug        output debug information about paths\n",
      "\n",
      "Available subcommands: dejavu events execute kernel kernelspec lab\n",
      "labextension labhub migrate nbconvert notebook run server troubleshoot trust\n",
      "\n",
      "Jupyter command `jupyter-nbextension` not found.\n",
      "\u001b[33m(Deprecated) Installing extensions with the jupyter labextension install command is now deprecated and will be removed in a future major version of JupyterLab.\n",
      "\n",
      "Users should manage prebuilt extensions with package managers like pip and conda, and extension authors are encouraged to distribute their extensions as prebuilt packages \u001b[0m\n",
      "Building jupyterlab assets (production, minimized)\n"
     ]
    }
   ],
   "source": [
    "# Install required packages in the notebook\n",
    "!pip3 install --quiet openai requests python-dotenv ipywidgets\n",
    "!jupyter nbextension enable --py widgetsnbextension --sys-prefix\n",
    "!jupyter labextension install @jupyter-widgets/jupyterlab-manager\n",
    "\n"
   ]
  },
  {
   "cell_type": "code",
   "execution_count": 2,
   "id": "b3045bb7-94f6-4c0c-b96b-f2ccb6ea4dfc",
   "metadata": {},
   "outputs": [],
   "source": [
    "import os\n",
    "import requests\n",
    "from dotenv import load_dotenv\n",
    "from openai import OpenAI\n",
    "\n",
    "import ipywidgets as widgets\n",
    "from IPython.display import display, clear_output\n",
    "\n",
    "\n",
    "# Load environment variables and set OpenAI API key\n",
    "load_dotenv()\n",
    "client = OpenAI(\n",
    "    api_key=os.getenv(\"OPENAI_API_KEY\"),\n",
    ")\n"
   ]
  },
  {
   "cell_type": "code",
   "execution_count": 3,
   "id": "4a187882-997e-4c3c-8e18-0f962d7d9735",
   "metadata": {},
   "outputs": [],
   "source": [
    "def get_joke_data():\n",
    "    url = \"https://v2.jokeapi.dev/joke/Any?blacklistFlags=political,racist,sexist\"\n",
    "    response = requests.get(url)\n",
    "    if response.status_code == 200:\n",
    "        joke_data = response.json()\n",
    "        if joke_data.get(\"type\") == \"single\":\n",
    "            joke_text = joke_data[\"joke\"]\n",
    "        else:\n",
    "            joke_text = f\"{joke_data['setup']} ... {joke_data['delivery']}\"\n",
    "        return joke_text\n",
    "    else:\n",
    "        print(\"Error fetching joke data.\")\n",
    "        return None\n",
    "\n",
    "    "
   ]
  },
  {
   "cell_type": "code",
   "execution_count": 4,
   "id": "1ae3da8e-e3a5-434a-bf6f-e66676ce6b3d",
   "metadata": {},
   "outputs": [],
   "source": [
    "def generate_variation(joke_text, style):\n",
    "    prompt = f\"Rewrite the following joke in {style} style: {joke_text}\"\n",
    "    response = client.chat.completions.create(\n",
    "        model=\"gpt-3.5-turbo\",\n",
    "        messages=[{\"role\": \"user\", \"content\": prompt}],\n",
    "        max_tokens=50,\n",
    "        temperature=0.7,\n",
    "    )\n",
    "    return response.choices[0].message.content.strip()"
   ]
  },
  {
   "cell_type": "code",
   "execution_count": 5,
   "id": "defb804f-f96b-49ff-9854-2cc3cb687be2",
   "metadata": {},
   "outputs": [],
   "source": [
    "def get_joke_variations():\n",
    "    joke_text = get_joke_data()\n",
    "    if not joke_text:\n",
    "        return \"No joke available.\"\n",
    "\n",
    "    styles = [\"Original\", \"NSFW\", \"Gen Alpha\", \"Gen Z\", \"Millennial\", \"Boomer\"]\n",
    "    joke_variations = []\n",
    "\n",
    "    for style in styles:\n",
    "        variation = generate_variation(joke_text, style)\n",
    "        joke_variations.append({\"style\": style, \"joke\": variation})\n",
    "\n",
    "    return joke_variations\n"
   ]
  },
  {
   "cell_type": "code",
   "execution_count": 6,
   "id": "d2643013-d66a-4f65-9cca-2731791f5b71",
   "metadata": {},
   "outputs": [
    {
     "name": "stdout",
     "output_type": "stream",
     "text": [
      "Original Version: Why might one refer to a collection of kittens as a \"meowntain\"?\n",
      "--------------------------------------------------\n",
      "NSFW Version: What do you call a pile of pussies? ... A fuck mountain.\n",
      "--------------------------------------------------\n",
      "Gen Alpha Version: Why did the kittens make a huge tower? ... A meowntain!\n",
      "--------------------------------------------------\n",
      "Gen Z Version: What do you call a pile of kittens? ... A purr-amid.\n",
      "--------------------------------------------------\n",
      "Millennial Version: What do you call a pile of kittens? A purr-mound.\n",
      "--------------------------------------------------\n",
      "Boomer Version: Why did the chicken cross the road? To get to the other side!\n",
      "--------------------------------------------------\n"
     ]
    }
   ],
   "source": [
    "# Example usage\n",
    "joke_variations = get_joke_variations()\n",
    "for joke in joke_variations:\n",
    "    print(f\"{joke['style']} Version: {joke['joke']}\")\n",
    "    print(\"-\" * 50)"
   ]
  },
  {
   "cell_type": "code",
   "execution_count": 8,
   "id": "c84c66df-f23a-4fee-b0c6-f5a1d0274684",
   "metadata": {},
   "outputs": [
    {
     "data": {
      "application/vnd.jupyter.widget-view+json": {
       "model_id": "de5fcff3c7024e2785f1fdbca2d48941",
       "version_major": 2,
       "version_minor": 0
      },
      "text/plain": [
       "Button(button_style='success', description='Get a Joke', style=ButtonStyle())"
      ]
     },
     "metadata": {},
     "output_type": "display_data"
    },
    {
     "data": {
      "application/vnd.jupyter.widget-view+json": {
       "model_id": "51ef972ea08f4d6fa03e5e7fd8ab791f",
       "version_major": 2,
       "version_minor": 0
      },
      "text/plain": [
       "Output()"
      ]
     },
     "metadata": {},
     "output_type": "display_data"
    }
   ],
   "source": [
    "import ipywidgets as widgets\n",
    "from IPython.display import display, clear_output\n",
    "\n",
    "# Display the UI\n",
    "floatSLider = widgets.FloatSlider(\n",
    "    value=7.5,\n",
    "    min=0,\n",
    "    max=10.0,\n",
    "    step=0.1,\n",
    "    description='Test:',\n",
    "    disabled=False,\n",
    "    continuous_update=False,\n",
    "    orientation='vertical',\n",
    "    readout=True,\n",
    "    readout_format='.1f',\n",
    ")\n",
    "display(floatSLider, output_area)\n"
   ]
  },
  {
   "cell_type": "code",
   "execution_count": null,
   "id": "cc3bfdea-d1b7-4cda-96bb-9ebd201acf29",
   "metadata": {},
   "outputs": [],
   "source": [
    "\n"
   ]
  },
  {
   "cell_type": "code",
   "execution_count": null,
   "id": "73aac50c-d5ac-486e-9c90-d5ef4bee141a",
   "metadata": {},
   "outputs": [],
   "source": []
  },
  {
   "cell_type": "code",
   "execution_count": null,
   "id": "6dc68f07-e92d-45a7-9710-73ef2520cab1",
   "metadata": {},
   "outputs": [],
   "source": []
  },
  {
   "cell_type": "code",
   "execution_count": null,
   "id": "44f38602-5b96-4b3a-a886-66099b910caa",
   "metadata": {},
   "outputs": [],
   "source": []
  },
  {
   "cell_type": "code",
   "execution_count": null,
   "id": "fdb91ac5-8051-4091-b195-bf3fc6562fb8",
   "metadata": {},
   "outputs": [],
   "source": []
  },
  {
   "cell_type": "code",
   "execution_count": null,
   "id": "b0c485a8-4b78-4945-88f6-023f993605a0",
   "metadata": {},
   "outputs": [],
   "source": []
  }
 ],
 "metadata": {
  "kernelspec": {
   "display_name": "Python 3 (ipykernel)",
   "language": "python",
   "name": "python3"
  },
  "language_info": {
   "codemirror_mode": {
    "name": "ipython",
    "version": 3
   },
   "file_extension": ".py",
   "mimetype": "text/x-python",
   "name": "python",
   "nbconvert_exporter": "python",
   "pygments_lexer": "ipython3",
   "version": "3.12.6"
  }
 },
 "nbformat": 4,
 "nbformat_minor": 5
}
