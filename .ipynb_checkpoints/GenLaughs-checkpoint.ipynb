{
 "cells": [
  {
   "cell_type": "code",
   "execution_count": 2,
   "id": "b3045bb7-94f6-4c0c-b96b-f2ccb6ea4dfc",
   "metadata": {},
   "outputs": [],
   "source": [
    "import requests\n",
    "import json\n",
    "from datetime import datetime, timedelta\n",
    "from IPython.display import display, clear_output\n"
   ]
  },
  {
   "cell_type": "code",
   "execution_count": null,
   "id": "023b0af6-b6c7-4383-a63f-dcc67f43414b",
   "metadata": {},
   "outputs": [],
   "source": [
    "# OpenWeatherMap API Key\n",
    "OPENWEATHER_API_KEY = 'YOUR_OPENWEATHERMAP_API_KEY'"
   ]
  },
  {
   "cell_type": "code",
   "execution_count": 7,
   "id": "4a187882-997e-4c3c-8e18-0f962d7d9735",
   "metadata": {},
   "outputs": [],
   "source": [
    "def get_joke_data():\n",
    "    url = \"https://v2.jokeapi.dev/joke/Any\"\n",
    "    response = requests.get(url)\n",
    "    if response.status_code == 200:\n",
    "        print(response.json())\n",
    "        return response.json()\n",
    "    else:\n",
    "        print(\"Error fetching joke data.\")\n",
    "        return None\n",
    "    "
   ]
  },
  {
   "cell_type": "code",
   "execution_count": 8,
   "id": "bc1d39fb-a8f4-4e7b-8afd-26616feb91e9",
   "metadata": {},
   "outputs": [
    {
     "name": "stdout",
     "output_type": "stream",
     "text": [
      "{'error': False, 'category': 'Dark', 'type': 'twopart', 'setup': \"What's yellow and can't swim?\", 'delivery': 'A bus full of children.', 'flags': {'nsfw': False, 'religious': False, 'political': False, 'racist': False, 'sexist': False, 'explicit': False}, 'safe': False, 'id': 310, 'lang': 'en'}\n"
     ]
    },
    {
     "data": {
      "text/plain": [
       "{'error': False,\n",
       " 'category': 'Dark',\n",
       " 'type': 'twopart',\n",
       " 'setup': \"What's yellow and can't swim?\",\n",
       " 'delivery': 'A bus full of children.',\n",
       " 'flags': {'nsfw': False,\n",
       "  'religious': False,\n",
       "  'political': False,\n",
       "  'racist': False,\n",
       "  'sexist': False,\n",
       "  'explicit': False},\n",
       " 'safe': False,\n",
       " 'id': 310,\n",
       " 'lang': 'en'}"
      ]
     },
     "execution_count": 8,
     "metadata": {},
     "output_type": "execute_result"
    }
   ],
   "source": [
    "get_joke_data()"
   ]
  },
  {
   "cell_type": "code",
   "execution_count": null,
   "id": "b041783d-1234-4a68-ab4c-c614837292e9",
   "metadata": {},
   "outputs": [],
   "source": []
  }
 ],
 "metadata": {
  "kernelspec": {
   "display_name": "Python 3 (ipykernel)",
   "language": "python",
   "name": "python3"
  },
  "language_info": {
   "codemirror_mode": {
    "name": "ipython",
    "version": 3
   },
   "file_extension": ".py",
   "mimetype": "text/x-python",
   "name": "python",
   "nbconvert_exporter": "python",
   "pygments_lexer": "ipython3",
   "version": "3.12.6"
  }
 },
 "nbformat": 4,
 "nbformat_minor": 5
}
