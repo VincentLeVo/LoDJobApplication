{
 "cells": [
  {
   "cell_type": "code",
   "execution_count": 1,
   "id": "1bf70d47-02cd-4890-9f45-d06d8ead2f60",
   "metadata": {},
   "outputs": [
    {
     "name": "stdout",
     "output_type": "stream",
     "text": [
      "\n",
      "\u001b[1m[\u001b[0m\u001b[34;49mnotice\u001b[0m\u001b[1;39;49m]\u001b[0m\u001b[39;49m A new release of pip is available: \u001b[0m\u001b[31;49m24.2\u001b[0m\u001b[39;49m -> \u001b[0m\u001b[32;49m24.3.1\u001b[0m\n",
      "\u001b[1m[\u001b[0m\u001b[34;49mnotice\u001b[0m\u001b[1;39;49m]\u001b[0m\u001b[39;49m To update, run: \u001b[0m\u001b[32;49mpip3 install --upgrade pip\u001b[0m\n",
      "usage: jupyter [-h] [--version] [--config-dir] [--data-dir] [--runtime-dir]\n",
      "               [--paths] [--json] [--debug]\n",
      "               [subcommand]\n",
      "\n",
      "Jupyter: Interactive Computing\n",
      "\n",
      "positional arguments:\n",
      "  subcommand     the subcommand to launch\n",
      "\n",
      "options:\n",
      "  -h, --help     show this help message and exit\n",
      "  --version      show the versions of core jupyter packages and exit\n",
      "  --config-dir   show Jupyter config dir\n",
      "  --data-dir     show Jupyter data dir\n",
      "  --runtime-dir  show Jupyter runtime dir\n",
      "  --paths        show all Jupyter paths. Add --json for machine-readable\n",
      "                 format.\n",
      "  --json         output paths as machine-readable json\n",
      "  --debug        output debug information about paths\n",
      "\n",
      "Available subcommands: dejavu events execute kernel kernelspec lab\n",
      "labextension labhub migrate nbconvert notebook run server troubleshoot trust\n",
      "\n",
      "Jupyter command `jupyter-nbextension` not found.\n",
      "\u001b[33m(Deprecated) Installing extensions with the jupyter labextension install command is now deprecated and will be removed in a future major version of JupyterLab.\n",
      "\n",
      "Users should manage prebuilt extensions with package managers like pip and conda, and extension authors are encouraged to distribute their extensions as prebuilt packages \u001b[0m\n",
      "Building jupyterlab assets (production, minimized)\n"
     ]
    }
   ],
   "source": [
    "# Interact with the UI on Cell 3\n",
    "\n",
    "# Install required packages in the notebook\n",
    "!pip3 install --quiet openai requests python-dotenv ipywidgets\n",
    "!jupyter nbextension enable --py widgetsnbextension --sys-prefix\n",
    "!jupyter labextension install @jupyter-widgets/jupyterlab-manager\n",
    "\n"
   ]
  },
  {
   "cell_type": "code",
   "execution_count": 2,
   "id": "b3045bb7-94f6-4c0c-b96b-f2ccb6ea4dfc",
   "metadata": {},
   "outputs": [],
   "source": [
    "import os\n",
    "import requests\n",
    "from dotenv import load_dotenv\n",
    "from openai import OpenAI\n",
    "\n",
    "import ipywidgets as widgets\n",
    "from IPython.display import display, clear_output, HTML\n",
    "\n",
    "\n",
    "# Load environment variables and set OpenAI API key\n",
    "load_dotenv()\n",
    "client = OpenAI(\n",
    "    api_key=os.getenv(\"OPENAI_API_KEY\"),\n",
    ")\n"
   ]
  },
  {
   "cell_type": "code",
   "execution_count": 23,
   "id": "c84c66df-f23a-4fee-b0c6-f5a1d0274684",
   "metadata": {},
   "outputs": [
    {
     "data": {
      "text/html": [
       "\n",
       "<style>\n",
       "    .joke-container {\n",
       "        font-family: Arial, sans-serif;\n",
       "        border-radius: 12px;\n",
       "        max-width: 20rem;\n",
       "        padding: 1.5rem;\n",
       "        margin: 15px 0;\n",
       "        background-color: #f9fafb;\n",
       "        border: 1px solid #e5e7eb;\n",
       "        box-shadow: 0 4px 6px rgba(0, 0, 0, 0.1);\n",
       "    }\n",
       "    \n",
       "    .joke-container:first-child {\n",
       "        background-color: #e0f2fe;\n",
       "        border-color: #93c5fd;\n",
       "        max-width: 30rem;\n",
       "        box-shadow: 0 4px 10px rgba(37, 99, 235, 0.3);\n",
       "    }\n",
       "\n",
       "    .joke-container:first-child .joke-content {\n",
       "        font-size: 2.25remrem;\n",
       "        font-weight: bold;\n",
       "    }\n",
       "    \n",
       "    .joke-style {\n",
       "        font-size: 0.75rem;\n",
       "        letter-spacing: 0.05em;\n",
       "        text-transform: uppercase;\n",
       "        color: #374151;\n",
       "        margin-bottom: 1rem;\n",
       "    }\n",
       "\n",
       "    .joke-content {\n",
       "        color: #111827;\n",
       "        font-weight: normal;\n",
       "        margin-bottom: 0.5rem;\n",
       "        font-size: 1.5rem;\n",
       "        font-weight: semibold;\n",
       "    }\n",
       "    .html-container {\n",
       "        display: flex;\n",
       "        flex-direction: column;\n",
       "        align-items: center;\n",
       "        font-family: Arial, sans-serif;\n",
       "        color: #1f2937;\n",
       "    }\n",
       "\n",
       "</style>\n"
      ],
      "text/plain": [
       "<IPython.core.display.HTML object>"
      ]
     },
     "metadata": {},
     "output_type": "display_data"
    },
    {
     "data": {
      "application/vnd.jupyter.widget-view+json": {
       "model_id": "0f0a30f4e9944b67b68f3458f309d847",
       "version_major": 2,
       "version_minor": 0
      },
      "text/plain": [
       "Button(button_style='danger', description='Click Me for a Joke', layout=Layout(height='130px', width='400px'),…"
      ]
     },
     "metadata": {},
     "output_type": "display_data"
    },
    {
     "data": {
      "application/vnd.jupyter.widget-view+json": {
       "model_id": "fa2d64d4a72b40d3b12e8373cc6b8149",
       "version_major": 2,
       "version_minor": 0
      },
      "text/plain": [
       "Output()"
      ]
     },
     "metadata": {},
     "output_type": "display_data"
    }
   ],
   "source": [
    "# UI components\n",
    "button = widgets.Button(description=\"Click Me for a Joke\",button_style='danger', layout=widgets.Layout(width=\"400px\", height=\"130px\"))\n",
    "button.style.button_color = '#4C69E1'\n",
    "button.style.font_size = \"2rem\"\n",
    "\n",
    "output_area = widgets.Output()\n",
    "\n",
    "style = \"\"\"\n",
    "<style>\n",
    "    .joke-container {\n",
    "        font-family: Arial, sans-serif;\n",
    "        border-radius: 12px;\n",
    "        max-width: 20rem;\n",
    "        padding: 1.5rem;\n",
    "        margin: 15px 0;\n",
    "        background-color: #f9fafb;\n",
    "        border: 1px solid #e5e7eb;\n",
    "        box-shadow: 0 4px 6px rgba(0, 0, 0, 0.1);\n",
    "    }\n",
    "    \n",
    "    .joke-container:first-child {\n",
    "        background-color: #e0f2fe;\n",
    "        border-color: #93c5fd;\n",
    "        max-width: 30rem;\n",
    "        box-shadow: 0 4px 10px rgba(37, 99, 235, 0.3);\n",
    "    }\n",
    "\n",
    "    .joke-container:first-child .joke-content {\n",
    "        font-size: 2.25remrem;\n",
    "        font-weight: bold;\n",
    "    }\n",
    "    \n",
    "    .joke-style {\n",
    "        font-size: 0.75rem;\n",
    "        letter-spacing: 0.05em;\n",
    "        text-transform: uppercase;\n",
    "        color: #374151;\n",
    "        margin-bottom: 1rem;\n",
    "    }\n",
    "\n",
    "    .joke-content {\n",
    "        color: #111827;\n",
    "        font-weight: normal;\n",
    "        margin-bottom: 0.5rem;\n",
    "        font-size: 1.5rem;\n",
    "        font-weight: semibold;\n",
    "    }\n",
    "    .html-container {\n",
    "        display: flex;\n",
    "        flex-direction: column;\n",
    "        align-items: center;\n",
    "        font-family: Arial, sans-serif;\n",
    "        color: #1f2937;\n",
    "    }\n",
    "\n",
    "</style>\n",
    "\"\"\"\n",
    "\n",
    "def on_button_click(b):\n",
    "    button.layout.display = 'none'\n",
    "    with output_area:\n",
    "        clear_output()  # Clear previous output\n",
    "        display(HTML(jokesStyles))  # Display CSS styles\n",
    "\n",
    "        joke_variations = get_joke_variations()\n",
    "        \n",
    "        jokes_html = '<div class=\"html-container\">'\n",
    "        for joke in joke_variations:\n",
    "            jokes_html += f\"\"\"\n",
    "                <div class=\"joke-container\">\n",
    "                    <div class=\"joke-style\">{joke['style']} Style</div>\n",
    "                    <div class=\"joke-content\">{joke['joke']}</div>\n",
    "                </div>\n",
    "            \"\"\"\n",
    "        jokes_html += '</div>'\n",
    "        display(HTML(jokes_html))\n",
    "\n",
    "# Set the button to call `on_button_click` when clicked\n",
    "button.on_click(on_button_click)\n",
    "\n",
    "# Display the UI\n",
    "display(HTML(style))  \n",
    "display(button)\n",
    "display(output_area)\n",
    "\n"
   ]
  },
  {
   "cell_type": "code",
   "execution_count": 4,
   "id": "4a187882-997e-4c3c-8e18-0f962d7d9735",
   "metadata": {},
   "outputs": [],
   "source": [
    "def get_joke_data():\n",
    "    url = \"https://v2.jokeapi.dev/joke/Any?blacklistFlags=political,racist,sexist\"\n",
    "    response = requests.get(url)\n",
    "    if response.status_code == 200:\n",
    "        joke_data = response.json()\n",
    "        if joke_data.get(\"type\") == \"single\":\n",
    "            joke_text = joke_data[\"joke\"]\n",
    "        else:\n",
    "            joke_text = f\"{joke_data['setup']} ... {joke_data['delivery']}\"\n",
    "        return joke_text\n",
    "    else:\n",
    "        print(\"Error fetching joke data.\")\n",
    "        return None\n",
    "    "
   ]
  },
  {
   "cell_type": "code",
   "execution_count": 5,
   "id": "1ae3da8e-e3a5-434a-bf6f-e66676ce6b3d",
   "metadata": {},
   "outputs": [],
   "source": [
    "def generate_variation(joke_text, style):\n",
    "    prompt = f\"Rewrite the following joke in {style} style: {joke_text}\"\n",
    "    response = client.chat.completions.create(\n",
    "        model=\"gpt-3.5-turbo\",\n",
    "        messages=[{\"role\": \"user\", \"content\": prompt}],\n",
    "        max_tokens=50,\n",
    "        temperature=0.7,\n",
    "    )\n",
    "    return response.choices[0].message.content.strip()"
   ]
  },
  {
   "cell_type": "code",
   "execution_count": 6,
   "id": "defb804f-f96b-49ff-9854-2cc3cb687be2",
   "metadata": {},
   "outputs": [],
   "source": [
    "def get_joke_variations():\n",
    "    joke_text = get_joke_data()\n",
    "    if not joke_text:\n",
    "        return \"No joke available.\"\n",
    "\n",
    "    styles = [\"Original\", \"NSFW\", \"Gen Alpha\", \"Gen Z\", \"Millennial\", \"Boomer\"]\n",
    "    joke_variations = []\n",
    "\n",
    "    for style in styles:\n",
    "        variation = generate_variation(joke_text, style)\n",
    "        joke_variations.append({\"style\": style, \"joke\": variation})\n",
    "\n",
    "    return joke_variations"
   ]
  },
  {
   "cell_type": "code",
   "execution_count": null,
   "id": "b0c485a8-4b78-4945-88f6-023f993605a0",
   "metadata": {},
   "outputs": [],
   "source": []
  },
  {
   "cell_type": "code",
   "execution_count": null,
   "id": "71a7df6e-0f89-48c0-ab78-99a219f4037d",
   "metadata": {},
   "outputs": [],
   "source": []
  },
  {
   "cell_type": "code",
   "execution_count": null,
   "id": "a7a940e9-a1e8-48d0-9785-540edcf14511",
   "metadata": {},
   "outputs": [],
   "source": []
  },
  {
   "cell_type": "code",
   "execution_count": null,
   "id": "0ec2bba4-a220-4e6a-bf59-105f4130bd40",
   "metadata": {},
   "outputs": [],
   "source": []
  }
 ],
 "metadata": {
  "kernelspec": {
   "display_name": "Python 3 (ipykernel)",
   "language": "python",
   "name": "python3"
  },
  "language_info": {
   "codemirror_mode": {
    "name": "ipython",
    "version": 3
   },
   "file_extension": ".py",
   "mimetype": "text/x-python",
   "name": "python",
   "nbconvert_exporter": "python",
   "pygments_lexer": "ipython3",
   "version": "3.12.6"
  }
 },
 "nbformat": 4,
 "nbformat_minor": 5
}
